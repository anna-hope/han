{
 "cells": [
  {
   "cell_type": "code",
   "execution_count": 1,
   "metadata": {},
   "outputs": [],
   "source": [
    "import torch\n",
    "from torch import nn\n",
    "import torch.nn.functional as F\n",
    "from torch.nn.utils.rnn import pack_padded_sequence, pad_packed_sequence\n",
    "\n",
    "import torchtext\n",
    "from torchtext import data\n",
    "from nltk import word_tokenize, sent_tokenize\n",
    "import numpy as np\n",
    "import pandas as pd\n",
    "from pathlib import Path\n",
    "from tqdm import tqdm_notebook as tqdm\n",
    "\n",
    "from typing import Dict, Iterable, Tuple, List"
   ]
  },
  {
   "cell_type": "code",
   "execution_count": 2,
   "metadata": {},
   "outputs": [],
   "source": [
    "def make_examples(df: pd.DataFrame, fields: Dict[str, data.Field]):\n",
    "    fields = {field_name: (field_name, field)\n",
    "                       for field_name, field in fields.items()}\n",
    "    for _, row in tqdm(df.iterrows()):\n",
    "        example = data.Example.fromdict(row, fields)\n",
    "        yield example"
   ]
  },
  {
   "cell_type": "code",
   "execution_count": 3,
   "metadata": {},
   "outputs": [],
   "source": [
    "class SequenceClassifierAttention(nn.Module):\n",
    "    # this follows the word-level attention from Yang et al. 2016\n",
    "    # https://www.cs.cmu.edu/~diyiy/docs/naacl16.pdf\n",
    "    \n",
    "    def __init__(self, n_hidden, *, batch_first=False):\n",
    "        super().__init__()\n",
    "        self.mlp = nn.Linear(n_hidden, n_hidden)\n",
    "        # word context vector\n",
    "        self.u_w = nn.Parameter(torch.rand(n_hidden))\n",
    "        self.batch_first = batch_first\n",
    "    \n",
    "    def forward(self, X):\n",
    "        if not self.batch_first:\n",
    "            # make the input (batch_size, timesteps, features)\n",
    "            X = X.transpose(1, 0)\n",
    "                                \n",
    "        # get the hidden representation of the sequence\n",
    "        u_it = F.tanh(self.mlp(X))\n",
    "        # get attention weights for each timestep\n",
    "        alpha = F.softmax(torch.matmul(u_it, self.u_w), dim=1)\n",
    "        \n",
    "        # get the weighted representation of the sequence\n",
    "        # and then get the sum\n",
    "        # (add a size 1 dimension to alpha so each time step's features could be scaled)\n",
    "        weighted_sequence = X * alpha.unsqueeze(2)\n",
    "        out = torch.sum(weighted_sequence, dim=1)\n",
    "        return out, alpha"
   ]
  },
  {
   "cell_type": "code",
   "execution_count": 4,
   "metadata": {},
   "outputs": [],
   "source": [
    "def get_sequence_lengths(sequences, padding_value):\n",
    "    def get_seq_len(sequence):\n",
    "        seq_len = 0\n",
    "        for n, item in enumerate(sequence, 1):\n",
    "            if item == padding_value:\n",
    "                break\n",
    "            seq_len = n\n",
    "        return seq_len\n",
    "    lengths = np.array([get_seq_len(seq) for seq in sequences])\n",
    "    return lengths"
   ]
  },
  {
   "cell_type": "code",
   "execution_count": 5,
   "metadata": {},
   "outputs": [],
   "source": [
    "def get_nonzero_sequences(sequences, lengths):\n",
    "    # keep track of the indexes\n",
    "    # of non-empty sequences\n",
    "    indexes = torch.nonzero(lengths).view(-1)\n",
    "    nonzero_seqs = sequences[indexes]\n",
    "    return nonzero_seqs, indexes"
   ]
  },
  {
   "cell_type": "code",
   "execution_count": 6,
   "metadata": {},
   "outputs": [],
   "source": [
    "class HierarchicalAttentionNetwork(nn.Module):\n",
    "    def __init__(self, *, n_hidden: int, n_classes: int,\n",
    "                 vocab_size, embedding_dim, embedding_weights=None,\n",
    "                 padding_idx=None):\n",
    "        super().__init__()\n",
    "        self.embed = nn.Embedding(vocab_size, embedding_dim, \n",
    "                                  padding_idx=padding_idx)\n",
    "        if embedding_weights is not None:\n",
    "            self.embed.data.weight.copy_(embedding_weights)\n",
    "            \n",
    "        self.word_encoder = nn.GRU(embedding_dim, n_hidden, bidirectional=True,\n",
    "                                   batch_first=True)\n",
    "        self.word_attention = SequenceClassifierAttention(n_hidden * 2, \n",
    "                                                          batch_first=True)\n",
    "        self.sentence_encoder = nn.GRU(n_hidden * 2, n_hidden, bidirectional=True,\n",
    "                                       batch_first=True)\n",
    "        self.sentence_attention = SequenceClassifierAttention(n_hidden * 2,\n",
    "                                                              batch_first=True)\n",
    "        self.out = nn.Linear(n_hidden * 2, n_classes)\n",
    "        \n",
    "    \n",
    "    @staticmethod\n",
    "    def _repack_with_zero_seqs(*, seq_vectors: torch.Tensor, batch_size: int,\n",
    "                               indexes_nonzero: List[int]):\n",
    "        # unfortunately,\n",
    "        # this is the only way I have found to \"repackage\"\n",
    "        # the sequence vectors into the original batch size\n",
    "        # and preserving the gradient graph\n",
    "        encoded_dim = seq_vectors.shape[1]\n",
    "        repacked_seqs = [torch.zeros(encoded_dim, device=seq_vectors.device,\n",
    "                                     requires_grad=True).unsqueeze(0)\n",
    "                         for _ in range(batch_size)]\n",
    "        for seq_vector, index in zip(seq_vectors, indexes_nonzero):\n",
    "            repacked_seqs[index] = seq_vector.unsqueeze(0)\n",
    "        \n",
    "        repacked_seqs = torch.cat(repacked_seqs)\n",
    "        return repacked_seqs\n",
    "        \n",
    "    def encode_sentences_words(self, X):\n",
    "        batch_size, n_sents, n_words = X.shape\n",
    "        encoded_sents_word = []\n",
    "        sentence_alphas = []\n",
    "        sentence_lengths = torch.zeros(batch_size, dtype=torch.int32)\n",
    "        \n",
    "        for i in range(n_sents):\n",
    "            sentence_words = X[:,i,:]\n",
    "            lengths = get_sequence_lengths(sentence_words, self.embed.padding_idx)\n",
    "            lengths = torch.tensor(lengths, dtype=torch.int64)\n",
    "            \n",
    "            sentence_words_nonzero, indexes_nonzero = get_nonzero_sequences(sentence_words,\n",
    "                                                                            lengths)\n",
    "            lengths_nonzero = lengths[indexes_nonzero]\n",
    "            if indexes_nonzero.dim() > 0:\n",
    "                sorted_lengths, sorted_indices = torch.sort(lengths_nonzero, \n",
    "                                                            descending=True)\n",
    "                sentence_words = sentence_words_nonzero[sorted_indices]\n",
    "            else:\n",
    "                sorted_lengths, sorted_indices = lengths_nonzero, indexes_nonzero\n",
    "                sentence_words = sentence_words_nonzero.unsqueeze(0)\n",
    "\n",
    "            words_embedded = self.embed(sentence_words)\n",
    "            words_embedded = pack_padded_sequence(words_embedded, sorted_lengths, \n",
    "                                                      batch_first=True)\n",
    "            words_encoded, _ = self.word_encoder(words_embedded)\n",
    "            words_encoded, sorted_lengths = pad_packed_sequence(words_encoded,\n",
    "                                                                batch_first=True)\n",
    "            \n",
    "            _, unsorted_indices = torch.sort(sorted_indices)\n",
    "            words_encoded = words_encoded[unsorted_indices]\n",
    "            \n",
    "            sentence_vector, sentence_alpha = self.word_attention(words_encoded)\n",
    "            \n",
    "            # \"re-insert\" zero vectors as placeholders\n",
    "            # for the sequences (sentences) that have already ended\n",
    "            sentence_vector = self._repack_with_zero_seqs(seq_vectors=sentence_vector,\n",
    "                                                          batch_size=batch_size,\n",
    "                                                          indexes_nonzero=indexes_nonzero)\n",
    "            sentence_alpha = self._repack_with_zero_seqs(seq_vectors=sentence_alpha,\n",
    "                                                         batch_size=batch_size,\n",
    "                                                         indexes_nonzero=indexes_nonzero)\n",
    "            \n",
    "            # unsqueeze the sentence vector to insert dummy \"sentence timestep\" dimension\n",
    "            # so that we can concatenate on it\n",
    "            \n",
    "            encoded_sents_word.append(sentence_vector.unsqueeze(1))\n",
    "            sentence_alphas.append(sentence_alpha)\n",
    "            \n",
    "            # keep track of the sentence lengths\n",
    "            # (increment them if they were non-zero)\n",
    "            # so we can pad/pack the sentences\n",
    "            # when encoding the whole document later\n",
    "            for index in indexes_nonzero:\n",
    "                sentence_lengths[index] += 1\n",
    "            \n",
    "        encoded_sents_word = torch.cat(encoded_sents_word, dim=1)\n",
    "        return encoded_sents_word, sentence_alphas, sentence_lengths\n",
    "        \n",
    "        \n",
    "    def forward(self, X):\n",
    "        encoded_sents_word, sentence_alphas, sentence_lengths = self.encode_sentences_words(X)\n",
    "        encoded_sents, _ = self.sentence_encoder(encoded_sents_word)\n",
    "        encoded_docs, document_alpha = self.sentence_attention(encoded_sents)\n",
    "        out = self.out(encoded_docs)\n",
    "        return out, sentence_alphas, document_alpha\n",
    "        \n"
   ]
  },
  {
   "cell_type": "code",
   "execution_count": 7,
   "metadata": {},
   "outputs": [],
   "source": [
    "data_path = Path(Path.home(), 'projects', 'nlp', 'yelp_data')\n",
    "file_path = Path(data_path, 'review_chunk.gz')\n",
    "assert file_path.exists()\n",
    "\n",
    "review_chunk = pd.read_json(file_path, orient='records', lines=True,\n",
    "                            chunksize=10000)"
   ]
  },
  {
   "cell_type": "code",
   "execution_count": 8,
   "metadata": {},
   "outputs": [
    {
     "data": {
      "text/html": [
       "<div>\n",
       "<style scoped>\n",
       "    .dataframe tbody tr th:only-of-type {\n",
       "        vertical-align: middle;\n",
       "    }\n",
       "\n",
       "    .dataframe tbody tr th {\n",
       "        vertical-align: top;\n",
       "    }\n",
       "\n",
       "    .dataframe thead th {\n",
       "        text-align: right;\n",
       "    }\n",
       "</style>\n",
       "<table border=\"1\" class=\"dataframe\">\n",
       "  <thead>\n",
       "    <tr style=\"text-align: right;\">\n",
       "      <th></th>\n",
       "      <th>business_id</th>\n",
       "      <th>cool</th>\n",
       "      <th>date</th>\n",
       "      <th>funny</th>\n",
       "      <th>review_id</th>\n",
       "      <th>stars</th>\n",
       "      <th>text</th>\n",
       "      <th>useful</th>\n",
       "      <th>user_id</th>\n",
       "    </tr>\n",
       "  </thead>\n",
       "  <tbody>\n",
       "    <tr>\n",
       "      <th>0</th>\n",
       "      <td>0W4lkclzZThpx3V65bVgig</td>\n",
       "      <td>0</td>\n",
       "      <td>2016-05-28</td>\n",
       "      <td>0</td>\n",
       "      <td>v0i_UHJMo_hPBq9bxWvW4w</td>\n",
       "      <td>5</td>\n",
       "      <td>Love the staff, love the meat, love the place....</td>\n",
       "      <td>0</td>\n",
       "      <td>bv2nCi5Qv5vroFiqKGopiw</td>\n",
       "    </tr>\n",
       "    <tr>\n",
       "      <th>1</th>\n",
       "      <td>AEx2SYEUJmTxVVB18LlCwA</td>\n",
       "      <td>0</td>\n",
       "      <td>2016-05-28</td>\n",
       "      <td>0</td>\n",
       "      <td>vkVSCC7xljjrAI4UGfnKEQ</td>\n",
       "      <td>5</td>\n",
       "      <td>Super simple place but amazing nonetheless. It...</td>\n",
       "      <td>0</td>\n",
       "      <td>bv2nCi5Qv5vroFiqKGopiw</td>\n",
       "    </tr>\n",
       "    <tr>\n",
       "      <th>2</th>\n",
       "      <td>VR6GpWIda3SfvPC-lg9H3w</td>\n",
       "      <td>0</td>\n",
       "      <td>2016-05-28</td>\n",
       "      <td>0</td>\n",
       "      <td>n6QzIUObkYshz4dz2QRJTw</td>\n",
       "      <td>5</td>\n",
       "      <td>Small unassuming place that changes their menu...</td>\n",
       "      <td>0</td>\n",
       "      <td>bv2nCi5Qv5vroFiqKGopiw</td>\n",
       "    </tr>\n",
       "    <tr>\n",
       "      <th>3</th>\n",
       "      <td>CKC0-MOWMqoeWf6s-szl8g</td>\n",
       "      <td>0</td>\n",
       "      <td>2016-05-28</td>\n",
       "      <td>0</td>\n",
       "      <td>MV3CcKScW05u5LVfF6ok0g</td>\n",
       "      <td>5</td>\n",
       "      <td>Lester's is located in a beautiful neighborhoo...</td>\n",
       "      <td>0</td>\n",
       "      <td>bv2nCi5Qv5vroFiqKGopiw</td>\n",
       "    </tr>\n",
       "    <tr>\n",
       "      <th>4</th>\n",
       "      <td>ACFtxLv8pGrrxMm6EgjreA</td>\n",
       "      <td>0</td>\n",
       "      <td>2016-05-28</td>\n",
       "      <td>0</td>\n",
       "      <td>IXvOzsEMYtiJI0CARmj77Q</td>\n",
       "      <td>4</td>\n",
       "      <td>Love coming here. Yes the place always needs t...</td>\n",
       "      <td>0</td>\n",
       "      <td>bv2nCi5Qv5vroFiqKGopiw</td>\n",
       "    </tr>\n",
       "  </tbody>\n",
       "</table>\n",
       "</div>"
      ],
      "text/plain": [
       "              business_id  cool       date  funny               review_id  \\\n",
       "0  0W4lkclzZThpx3V65bVgig     0 2016-05-28      0  v0i_UHJMo_hPBq9bxWvW4w   \n",
       "1  AEx2SYEUJmTxVVB18LlCwA     0 2016-05-28      0  vkVSCC7xljjrAI4UGfnKEQ   \n",
       "2  VR6GpWIda3SfvPC-lg9H3w     0 2016-05-28      0  n6QzIUObkYshz4dz2QRJTw   \n",
       "3  CKC0-MOWMqoeWf6s-szl8g     0 2016-05-28      0  MV3CcKScW05u5LVfF6ok0g   \n",
       "4  ACFtxLv8pGrrxMm6EgjreA     0 2016-05-28      0  IXvOzsEMYtiJI0CARmj77Q   \n",
       "\n",
       "   stars                                               text  useful  \\\n",
       "0      5  Love the staff, love the meat, love the place....       0   \n",
       "1      5  Super simple place but amazing nonetheless. It...       0   \n",
       "2      5  Small unassuming place that changes their menu...       0   \n",
       "3      5  Lester's is located in a beautiful neighborhoo...       0   \n",
       "4      4  Love coming here. Yes the place always needs t...       0   \n",
       "\n",
       "                  user_id  \n",
       "0  bv2nCi5Qv5vroFiqKGopiw  \n",
       "1  bv2nCi5Qv5vroFiqKGopiw  \n",
       "2  bv2nCi5Qv5vroFiqKGopiw  \n",
       "3  bv2nCi5Qv5vroFiqKGopiw  \n",
       "4  bv2nCi5Qv5vroFiqKGopiw  "
      ]
     },
     "execution_count": 8,
     "metadata": {},
     "output_type": "execute_result"
    }
   ],
   "source": [
    "review_chunk = next(review_chunk)\n",
    "review_chunk.head()"
   ]
  },
  {
   "cell_type": "code",
   "execution_count": 9,
   "metadata": {},
   "outputs": [],
   "source": [
    "\n",
    "words = data.Field(tokenize=word_tokenize, batch_first=True)\n",
    "sentences = data.NestedField(words, tokenize=sent_tokenize)\n",
    "\n",
    "label = data.Field(sequential=False, use_vocab=False)\n",
    "\n",
    "fields = {'text': sentences, 'stars': label}"
   ]
  },
  {
   "cell_type": "code",
   "execution_count": 10,
   "metadata": {},
   "outputs": [
    {
     "data": {
      "application/vnd.jupyter.widget-view+json": {
       "model_id": "06574a2ef4fa411b858989a7ca003490",
       "version_major": 2,
       "version_minor": 0
      },
      "text/html": [
       "<p>Failed to display Jupyter Widget of type <code>HBox</code>.</p>\n",
       "<p>\n",
       "  If you're reading this message in the Jupyter Notebook or JupyterLab Notebook, it may mean\n",
       "  that the widgets JavaScript is still loading. If this message persists, it\n",
       "  likely means that the widgets JavaScript library is either not installed or\n",
       "  not enabled. See the <a href=\"https://ipywidgets.readthedocs.io/en/stable/user_install.html\">Jupyter\n",
       "  Widgets Documentation</a> for setup instructions.\n",
       "</p>\n",
       "<p>\n",
       "  If you're reading this message in another frontend (for example, a static\n",
       "  rendering on GitHub or <a href=\"https://nbviewer.jupyter.org/\">NBViewer</a>),\n",
       "  it may mean that your frontend doesn't currently support widgets.\n",
       "</p>\n"
      ],
      "text/plain": [
       "HBox(children=(IntProgress(value=1, bar_style='info', max=1), HTML(value='')))"
      ]
     },
     "metadata": {},
     "output_type": "display_data"
    },
    {
     "name": "stdout",
     "output_type": "stream",
     "text": [
      "\n"
     ]
    }
   ],
   "source": [
    "examples = list(make_examples(review_chunk, fields=fields))\n",
    "dataset = data.Dataset(examples, fields)\n",
    "device = torch.device('cuda:0')\n",
    "\n",
    "input_name = 'text'\n",
    "batch_size = 16\n",
    "iterator = data.BucketIterator(dataset, batch_size, device=device, repeat=False,\n",
    "                               sort_key=lambda x: len(getattr(x, input_name)))"
   ]
  },
  {
   "cell_type": "code",
   "execution_count": 11,
   "metadata": {},
   "outputs": [],
   "source": [
    "sentences.build_vocab(dataset, max_size=50000)"
   ]
  },
  {
   "cell_type": "code",
   "execution_count": 12,
   "metadata": {},
   "outputs": [
    {
     "data": {
      "text/plain": [
       "HierarchicalAttentionNetwork(\n",
       "  (embed): Embedding(46323, 200, padding_idx=1)\n",
       "  (word_encoder): GRU(200, 50, batch_first=True, bidirectional=True)\n",
       "  (word_attention): SequenceClassifierAttention(\n",
       "    (mlp): Linear(in_features=100, out_features=100, bias=True)\n",
       "  )\n",
       "  (sentence_encoder): GRU(100, 50, batch_first=True, bidirectional=True)\n",
       "  (sentence_attention): SequenceClassifierAttention(\n",
       "    (mlp): Linear(in_features=100, out_features=100, bias=True)\n",
       "  )\n",
       "  (out): Linear(in_features=100, out_features=5, bias=True)\n",
       ")"
      ]
     },
     "execution_count": 12,
     "metadata": {},
     "output_type": "execute_result"
    }
   ],
   "source": [
    "\n",
    "n_classes = 5\n",
    "n_hidden = 50\n",
    "embedding_dim = 200\n",
    "vocab_size = len(sentences.vocab)\n",
    "padding_idx = sentences.vocab.stoi[sentences.pad_token]\n",
    "\n",
    "net = HierarchicalAttentionNetwork(n_hidden=n_hidden, \n",
    "                                   padding_idx=padding_idx,\n",
    "                                   embedding_dim=embedding_dim, \n",
    "                                   vocab_size=vocab_size, \n",
    "                                   n_classes=n_classes)\n",
    "net.to(device)\n",
    "net"
   ]
  },
  {
   "cell_type": "code",
   "execution_count": 13,
   "metadata": {},
   "outputs": [],
   "source": [
    "criterion = nn.CrossEntropyLoss()\n",
    "optimizer = torch.optim.SGD(net.parameters(), lr=0.01, momentum=0.9)"
   ]
  },
  {
   "cell_type": "code",
   "execution_count": 14,
   "metadata": {
    "scrolled": true
   },
   "outputs": [
    {
     "name": "stdout",
     "output_type": "stream",
     "text": [
      "Epoch 1\n"
     ]
    },
    {
     "data": {
      "application/vnd.jupyter.widget-view+json": {
       "model_id": "a4aa6c0c65fd48cbb7350a6d91f7b760",
       "version_major": 2,
       "version_minor": 0
      },
      "text/html": [
       "<p>Failed to display Jupyter Widget of type <code>HBox</code>.</p>\n",
       "<p>\n",
       "  If you're reading this message in the Jupyter Notebook or JupyterLab Notebook, it may mean\n",
       "  that the widgets JavaScript is still loading. If this message persists, it\n",
       "  likely means that the widgets JavaScript library is either not installed or\n",
       "  not enabled. See the <a href=\"https://ipywidgets.readthedocs.io/en/stable/user_install.html\">Jupyter\n",
       "  Widgets Documentation</a> for setup instructions.\n",
       "</p>\n",
       "<p>\n",
       "  If you're reading this message in another frontend (for example, a static\n",
       "  rendering on GitHub or <a href=\"https://nbviewer.jupyter.org/\">NBViewer</a>),\n",
       "  it may mean that your frontend doesn't currently support widgets.\n",
       "</p>\n"
      ],
      "text/plain": [
       "HBox(children=(IntProgress(value=0, max=625), HTML(value='')))"
      ]
     },
     "metadata": {},
     "output_type": "display_data"
    },
    {
     "name": "stdout",
     "output_type": "stream",
     "text": [
      "Mean loss: 1.472281777858734\n",
      "Mean loss: 1.4550573337078094\n",
      "Mean loss: 1.4672764348983764\n",
      "Mean loss: 1.4358659839630128\n",
      "Mean loss: 1.4158501279354097\n",
      "Mean loss: 1.3958953130245209\n",
      "\n",
      "Epoch 2\n"
     ]
    },
    {
     "data": {
      "application/vnd.jupyter.widget-view+json": {
       "model_id": "ca0fe3f8eda54e3595763ed92c1a7711",
       "version_major": 2,
       "version_minor": 0
      },
      "text/html": [
       "<p>Failed to display Jupyter Widget of type <code>HBox</code>.</p>\n",
       "<p>\n",
       "  If you're reading this message in the Jupyter Notebook or JupyterLab Notebook, it may mean\n",
       "  that the widgets JavaScript is still loading. If this message persists, it\n",
       "  likely means that the widgets JavaScript library is either not installed or\n",
       "  not enabled. See the <a href=\"https://ipywidgets.readthedocs.io/en/stable/user_install.html\">Jupyter\n",
       "  Widgets Documentation</a> for setup instructions.\n",
       "</p>\n",
       "<p>\n",
       "  If you're reading this message in another frontend (for example, a static\n",
       "  rendering on GitHub or <a href=\"https://nbviewer.jupyter.org/\">NBViewer</a>),\n",
       "  it may mean that your frontend doesn't currently support widgets.\n",
       "</p>\n"
      ],
      "text/plain": [
       "HBox(children=(IntProgress(value=0, max=625), HTML(value='')))"
      ]
     },
     "metadata": {},
     "output_type": "display_data"
    },
    {
     "name": "stdout",
     "output_type": "stream",
     "text": [
      "Mean loss: 1.3782466781139373\n",
      "Mean loss: 1.3051426988840102\n",
      "Mean loss: 1.2911820089817048\n",
      "Mean loss: 1.2696714252233505\n",
      "Mean loss: 1.2692230015993118\n",
      "Mean loss: 1.216897214651108\n",
      "\n",
      "Epoch 3\n"
     ]
    },
    {
     "data": {
      "application/vnd.jupyter.widget-view+json": {
       "model_id": "dd5aedd1fd9f4544adedd456c9c5b349",
       "version_major": 2,
       "version_minor": 0
      },
      "text/html": [
       "<p>Failed to display Jupyter Widget of type <code>HBox</code>.</p>\n",
       "<p>\n",
       "  If you're reading this message in the Jupyter Notebook or JupyterLab Notebook, it may mean\n",
       "  that the widgets JavaScript is still loading. If this message persists, it\n",
       "  likely means that the widgets JavaScript library is either not installed or\n",
       "  not enabled. See the <a href=\"https://ipywidgets.readthedocs.io/en/stable/user_install.html\">Jupyter\n",
       "  Widgets Documentation</a> for setup instructions.\n",
       "</p>\n",
       "<p>\n",
       "  If you're reading this message in another frontend (for example, a static\n",
       "  rendering on GitHub or <a href=\"https://nbviewer.jupyter.org/\">NBViewer</a>),\n",
       "  it may mean that your frontend doesn't currently support widgets.\n",
       "</p>\n"
      ],
      "text/plain": [
       "HBox(children=(IntProgress(value=0, max=625), HTML(value='')))"
      ]
     },
     "metadata": {},
     "output_type": "display_data"
    },
    {
     "name": "stdout",
     "output_type": "stream",
     "text": [
      "Mean loss: 1.1767490357160568\n"
     ]
    },
    {
     "ename": "KeyboardInterrupt",
     "evalue": "",
     "output_type": "error",
     "traceback": [
      "\u001b[1;31m---------------------------------------------------------------------------\u001b[0m",
      "\u001b[1;31mKeyboardInterrupt\u001b[0m                         Traceback (most recent call last)",
      "\u001b[1;32m<ipython-input-14-9e201dcec5f0>\u001b[0m in \u001b[0;36m<module>\u001b[1;34m()\u001b[0m\n\u001b[0;32m     11\u001b[0m         \u001b[0minputs\u001b[0m \u001b[1;33m=\u001b[0m \u001b[0mbatch\u001b[0m\u001b[1;33m.\u001b[0m\u001b[0mtext\u001b[0m\u001b[1;33m\u001b[0m\u001b[0m\n\u001b[0;32m     12\u001b[0m         \u001b[0mtargets\u001b[0m \u001b[1;33m=\u001b[0m \u001b[0mbatch\u001b[0m\u001b[1;33m.\u001b[0m\u001b[0mstars\u001b[0m \u001b[1;33m-\u001b[0m \u001b[1;36m1\u001b[0m\u001b[1;33m\u001b[0m\u001b[0m\n\u001b[1;32m---> 13\u001b[1;33m         \u001b[0moutputs\u001b[0m\u001b[1;33m,\u001b[0m \u001b[1;33m*\u001b[0m\u001b[0m_\u001b[0m \u001b[1;33m=\u001b[0m \u001b[0mnet\u001b[0m\u001b[1;33m(\u001b[0m\u001b[0minputs\u001b[0m\u001b[1;33m)\u001b[0m\u001b[1;33m\u001b[0m\u001b[0m\n\u001b[0m\u001b[0;32m     14\u001b[0m         \u001b[0mloss\u001b[0m \u001b[1;33m=\u001b[0m \u001b[0mcriterion\u001b[0m\u001b[1;33m(\u001b[0m\u001b[0moutputs\u001b[0m\u001b[1;33m,\u001b[0m \u001b[0mtargets\u001b[0m\u001b[1;33m)\u001b[0m\u001b[1;33m\u001b[0m\u001b[0m\n\u001b[0;32m     15\u001b[0m         \u001b[0mloss\u001b[0m\u001b[1;33m.\u001b[0m\u001b[0mbackward\u001b[0m\u001b[1;33m(\u001b[0m\u001b[1;33m)\u001b[0m\u001b[1;33m\u001b[0m\u001b[0m\n",
      "\u001b[1;32m~\\Anaconda3\\lib\\site-packages\\torch\\nn\\modules\\module.py\u001b[0m in \u001b[0;36m__call__\u001b[1;34m(self, *input, **kwargs)\u001b[0m\n\u001b[0;32m    489\u001b[0m             \u001b[0mresult\u001b[0m \u001b[1;33m=\u001b[0m \u001b[0mself\u001b[0m\u001b[1;33m.\u001b[0m\u001b[0m_slow_forward\u001b[0m\u001b[1;33m(\u001b[0m\u001b[1;33m*\u001b[0m\u001b[0minput\u001b[0m\u001b[1;33m,\u001b[0m \u001b[1;33m**\u001b[0m\u001b[0mkwargs\u001b[0m\u001b[1;33m)\u001b[0m\u001b[1;33m\u001b[0m\u001b[0m\n\u001b[0;32m    490\u001b[0m         \u001b[1;32melse\u001b[0m\u001b[1;33m:\u001b[0m\u001b[1;33m\u001b[0m\u001b[0m\n\u001b[1;32m--> 491\u001b[1;33m             \u001b[0mresult\u001b[0m \u001b[1;33m=\u001b[0m \u001b[0mself\u001b[0m\u001b[1;33m.\u001b[0m\u001b[0mforward\u001b[0m\u001b[1;33m(\u001b[0m\u001b[1;33m*\u001b[0m\u001b[0minput\u001b[0m\u001b[1;33m,\u001b[0m \u001b[1;33m**\u001b[0m\u001b[0mkwargs\u001b[0m\u001b[1;33m)\u001b[0m\u001b[1;33m\u001b[0m\u001b[0m\n\u001b[0m\u001b[0;32m    492\u001b[0m         \u001b[1;32mfor\u001b[0m \u001b[0mhook\u001b[0m \u001b[1;32min\u001b[0m \u001b[0mself\u001b[0m\u001b[1;33m.\u001b[0m\u001b[0m_forward_hooks\u001b[0m\u001b[1;33m.\u001b[0m\u001b[0mvalues\u001b[0m\u001b[1;33m(\u001b[0m\u001b[1;33m)\u001b[0m\u001b[1;33m:\u001b[0m\u001b[1;33m\u001b[0m\u001b[0m\n\u001b[0;32m    493\u001b[0m             \u001b[0mhook_result\u001b[0m \u001b[1;33m=\u001b[0m \u001b[0mhook\u001b[0m\u001b[1;33m(\u001b[0m\u001b[0mself\u001b[0m\u001b[1;33m,\u001b[0m \u001b[0minput\u001b[0m\u001b[1;33m,\u001b[0m \u001b[0mresult\u001b[0m\u001b[1;33m)\u001b[0m\u001b[1;33m\u001b[0m\u001b[0m\n",
      "\u001b[1;32m<ipython-input-6-5bfb09f90a27>\u001b[0m in \u001b[0;36mforward\u001b[1;34m(self, X)\u001b[0m\n\u001b[0;32m     98\u001b[0m \u001b[1;33m\u001b[0m\u001b[0m\n\u001b[0;32m     99\u001b[0m     \u001b[1;32mdef\u001b[0m \u001b[0mforward\u001b[0m\u001b[1;33m(\u001b[0m\u001b[0mself\u001b[0m\u001b[1;33m,\u001b[0m \u001b[0mX\u001b[0m\u001b[1;33m)\u001b[0m\u001b[1;33m:\u001b[0m\u001b[1;33m\u001b[0m\u001b[0m\n\u001b[1;32m--> 100\u001b[1;33m         \u001b[0mencoded_sents_word\u001b[0m\u001b[1;33m,\u001b[0m \u001b[0msentence_alphas\u001b[0m\u001b[1;33m,\u001b[0m \u001b[0msentence_lengths\u001b[0m \u001b[1;33m=\u001b[0m \u001b[0mself\u001b[0m\u001b[1;33m.\u001b[0m\u001b[0mencode_sentences_words\u001b[0m\u001b[1;33m(\u001b[0m\u001b[0mX\u001b[0m\u001b[1;33m)\u001b[0m\u001b[1;33m\u001b[0m\u001b[0m\n\u001b[0m\u001b[0;32m    101\u001b[0m         \u001b[0mencoded_sents\u001b[0m\u001b[1;33m,\u001b[0m \u001b[0m_\u001b[0m \u001b[1;33m=\u001b[0m \u001b[0mself\u001b[0m\u001b[1;33m.\u001b[0m\u001b[0msentence_encoder\u001b[0m\u001b[1;33m(\u001b[0m\u001b[0mencoded_sents_word\u001b[0m\u001b[1;33m)\u001b[0m\u001b[1;33m\u001b[0m\u001b[0m\n\u001b[0;32m    102\u001b[0m         \u001b[0mencoded_docs\u001b[0m\u001b[1;33m,\u001b[0m \u001b[0mdocument_alpha\u001b[0m \u001b[1;33m=\u001b[0m \u001b[0mself\u001b[0m\u001b[1;33m.\u001b[0m\u001b[0msentence_attention\u001b[0m\u001b[1;33m(\u001b[0m\u001b[0mencoded_sents\u001b[0m\u001b[1;33m)\u001b[0m\u001b[1;33m\u001b[0m\u001b[0m\n",
      "\u001b[1;32m<ipython-input-6-5bfb09f90a27>\u001b[0m in \u001b[0;36mencode_sentences_words\u001b[1;34m(self, X)\u001b[0m\n\u001b[0;32m     45\u001b[0m         \u001b[1;32mfor\u001b[0m \u001b[0mi\u001b[0m \u001b[1;32min\u001b[0m \u001b[0mrange\u001b[0m\u001b[1;33m(\u001b[0m\u001b[0mn_sents\u001b[0m\u001b[1;33m)\u001b[0m\u001b[1;33m:\u001b[0m\u001b[1;33m\u001b[0m\u001b[0m\n\u001b[0;32m     46\u001b[0m             \u001b[0msentence_words\u001b[0m \u001b[1;33m=\u001b[0m \u001b[0mX\u001b[0m\u001b[1;33m[\u001b[0m\u001b[1;33m:\u001b[0m\u001b[1;33m,\u001b[0m\u001b[0mi\u001b[0m\u001b[1;33m,\u001b[0m\u001b[1;33m:\u001b[0m\u001b[1;33m]\u001b[0m\u001b[1;33m\u001b[0m\u001b[0m\n\u001b[1;32m---> 47\u001b[1;33m             \u001b[0mlengths\u001b[0m \u001b[1;33m=\u001b[0m \u001b[0mget_sequence_lengths\u001b[0m\u001b[1;33m(\u001b[0m\u001b[0msentence_words\u001b[0m\u001b[1;33m,\u001b[0m \u001b[0mself\u001b[0m\u001b[1;33m.\u001b[0m\u001b[0membed\u001b[0m\u001b[1;33m.\u001b[0m\u001b[0mpadding_idx\u001b[0m\u001b[1;33m)\u001b[0m\u001b[1;33m\u001b[0m\u001b[0m\n\u001b[0m\u001b[0;32m     48\u001b[0m             \u001b[0mlengths\u001b[0m \u001b[1;33m=\u001b[0m \u001b[0mtorch\u001b[0m\u001b[1;33m.\u001b[0m\u001b[0mtensor\u001b[0m\u001b[1;33m(\u001b[0m\u001b[0mlengths\u001b[0m\u001b[1;33m,\u001b[0m \u001b[0mdtype\u001b[0m\u001b[1;33m=\u001b[0m\u001b[0mtorch\u001b[0m\u001b[1;33m.\u001b[0m\u001b[0mint64\u001b[0m\u001b[1;33m)\u001b[0m\u001b[1;33m\u001b[0m\u001b[0m\n\u001b[0;32m     49\u001b[0m \u001b[1;33m\u001b[0m\u001b[0m\n",
      "\u001b[1;32m<ipython-input-4-7a13fcf25bc8>\u001b[0m in \u001b[0;36mget_sequence_lengths\u001b[1;34m(sequences, padding_value)\u001b[0m\n\u001b[0;32m      7\u001b[0m             \u001b[0mseq_len\u001b[0m \u001b[1;33m=\u001b[0m \u001b[0mn\u001b[0m\u001b[1;33m\u001b[0m\u001b[0m\n\u001b[0;32m      8\u001b[0m         \u001b[1;32mreturn\u001b[0m \u001b[0mseq_len\u001b[0m\u001b[1;33m\u001b[0m\u001b[0m\n\u001b[1;32m----> 9\u001b[1;33m     \u001b[0mlengths\u001b[0m \u001b[1;33m=\u001b[0m \u001b[0mnp\u001b[0m\u001b[1;33m.\u001b[0m\u001b[0marray\u001b[0m\u001b[1;33m(\u001b[0m\u001b[1;33m[\u001b[0m\u001b[0mget_seq_len\u001b[0m\u001b[1;33m(\u001b[0m\u001b[0mseq\u001b[0m\u001b[1;33m)\u001b[0m \u001b[1;32mfor\u001b[0m \u001b[0mseq\u001b[0m \u001b[1;32min\u001b[0m \u001b[0msequences\u001b[0m\u001b[1;33m]\u001b[0m\u001b[1;33m)\u001b[0m\u001b[1;33m\u001b[0m\u001b[0m\n\u001b[0m\u001b[0;32m     10\u001b[0m     \u001b[1;32mreturn\u001b[0m \u001b[0mlengths\u001b[0m\u001b[1;33m\u001b[0m\u001b[0m\n",
      "\u001b[1;32m<ipython-input-4-7a13fcf25bc8>\u001b[0m in \u001b[0;36m<listcomp>\u001b[1;34m(.0)\u001b[0m\n\u001b[0;32m      7\u001b[0m             \u001b[0mseq_len\u001b[0m \u001b[1;33m=\u001b[0m \u001b[0mn\u001b[0m\u001b[1;33m\u001b[0m\u001b[0m\n\u001b[0;32m      8\u001b[0m         \u001b[1;32mreturn\u001b[0m \u001b[0mseq_len\u001b[0m\u001b[1;33m\u001b[0m\u001b[0m\n\u001b[1;32m----> 9\u001b[1;33m     \u001b[0mlengths\u001b[0m \u001b[1;33m=\u001b[0m \u001b[0mnp\u001b[0m\u001b[1;33m.\u001b[0m\u001b[0marray\u001b[0m\u001b[1;33m(\u001b[0m\u001b[1;33m[\u001b[0m\u001b[0mget_seq_len\u001b[0m\u001b[1;33m(\u001b[0m\u001b[0mseq\u001b[0m\u001b[1;33m)\u001b[0m \u001b[1;32mfor\u001b[0m \u001b[0mseq\u001b[0m \u001b[1;32min\u001b[0m \u001b[0msequences\u001b[0m\u001b[1;33m]\u001b[0m\u001b[1;33m)\u001b[0m\u001b[1;33m\u001b[0m\u001b[0m\n\u001b[0m\u001b[0;32m     10\u001b[0m     \u001b[1;32mreturn\u001b[0m \u001b[0mlengths\u001b[0m\u001b[1;33m\u001b[0m\u001b[0m\n",
      "\u001b[1;32m<ipython-input-4-7a13fcf25bc8>\u001b[0m in \u001b[0;36mget_seq_len\u001b[1;34m(sequence)\u001b[0m\n\u001b[0;32m      3\u001b[0m         \u001b[0mseq_len\u001b[0m \u001b[1;33m=\u001b[0m \u001b[1;36m0\u001b[0m\u001b[1;33m\u001b[0m\u001b[0m\n\u001b[0;32m      4\u001b[0m         \u001b[1;32mfor\u001b[0m \u001b[0mn\u001b[0m\u001b[1;33m,\u001b[0m \u001b[0mitem\u001b[0m \u001b[1;32min\u001b[0m \u001b[0menumerate\u001b[0m\u001b[1;33m(\u001b[0m\u001b[0msequence\u001b[0m\u001b[1;33m,\u001b[0m \u001b[1;36m1\u001b[0m\u001b[1;33m)\u001b[0m\u001b[1;33m:\u001b[0m\u001b[1;33m\u001b[0m\u001b[0m\n\u001b[1;32m----> 5\u001b[1;33m             \u001b[1;32mif\u001b[0m \u001b[0mitem\u001b[0m \u001b[1;33m==\u001b[0m \u001b[0mpadding_value\u001b[0m\u001b[1;33m:\u001b[0m\u001b[1;33m\u001b[0m\u001b[0m\n\u001b[0m\u001b[0;32m      6\u001b[0m                 \u001b[1;32mbreak\u001b[0m\u001b[1;33m\u001b[0m\u001b[0m\n\u001b[0;32m      7\u001b[0m             \u001b[0mseq_len\u001b[0m \u001b[1;33m=\u001b[0m \u001b[0mn\u001b[0m\u001b[1;33m\u001b[0m\u001b[0m\n",
      "\u001b[1;31mKeyboardInterrupt\u001b[0m: "
     ]
    }
   ],
   "source": [
    "n_epochs = 5\n",
    "\n",
    "report_every = 100\n",
    "\n",
    "for epoch in range(n_epochs):\n",
    "    print(f'Epoch {epoch+1}')\n",
    "    running_loss = 0\n",
    "    for n, batch in enumerate(tqdm(iterator)):\n",
    "        optimizer.zero_grad()\n",
    "        \n",
    "        inputs = batch.text\n",
    "        targets = batch.stars - 1\n",
    "        outputs, *_ = net(inputs)\n",
    "        loss = criterion(outputs, targets)\n",
    "        loss.backward()\n",
    "        optimizer.step()\n",
    "        \n",
    "        running_loss += float(loss)\n",
    "        \n",
    "        if n % report_every == report_every - 1:\n",
    "            mean_loss = running_loss / report_every\n",
    "            print('Mean loss:', mean_loss)\n",
    "            running_loss = 0"
   ]
  },
  {
   "cell_type": "code",
   "execution_count": null,
   "metadata": {},
   "outputs": [],
   "source": [
    "some_batch = next(iter(iterator))"
   ]
  },
  {
   "cell_type": "code",
   "execution_count": null,
   "metadata": {},
   "outputs": [],
   "source": [
    "first_sent = some_batch.text[:,0,]\n",
    "get_sequence_lengths(first_sent, padding_idx)"
   ]
  },
  {
   "cell_type": "code",
   "execution_count": null,
   "metadata": {},
   "outputs": [],
   "source": [
    "first_sent = some_batch.text[:,-1,]\n",
    "first_sent"
   ]
  },
  {
   "cell_type": "code",
   "execution_count": null,
   "metadata": {},
   "outputs": [],
   "source": [
    "outputs, *_ = net(some_batch.text)\n",
    "outputs = F.softmax(outputs, dim=-1)\n",
    "np.argmax(outputs.data.numpy(), axis=1) + 1"
   ]
  },
  {
   "cell_type": "code",
   "execution_count": null,
   "metadata": {},
   "outputs": [],
   "source": [
    "some_batch.stars.data.numpy()"
   ]
  },
  {
   "cell_type": "code",
   "execution_count": 22,
   "metadata": {},
   "outputs": [
    {
     "data": {
      "text/plain": [
       "tensor([[[ 0.6832,  0.7560,  0.5971],\n",
       "         [ 0.1242,  0.4542,  0.5848],\n",
       "         [ 0.7981,  0.5346,  0.7373],\n",
       "         [ 0.8094,  0.8537,  0.7586],\n",
       "         [ 0.0591,  0.1274,  0.3652],\n",
       "         [ 0.7516,  0.9491,  0.4236],\n",
       "         [ 0.7122,  0.3119,  0.2438],\n",
       "         [ 0.4165,  0.0557,  0.9150],\n",
       "         [ 0.8173,  0.9313,  0.0369],\n",
       "         [ 0.0041,  0.5269,  0.0507]],\n",
       "\n",
       "        [[ 0.3365,  0.2361,  0.5023],\n",
       "         [ 0.3859,  0.2031,  0.2038],\n",
       "         [ 0.6666,  0.2204,  0.6155],\n",
       "         [ 0.3849,  0.6044,  0.3613],\n",
       "         [ 0.2057,  0.8306,  0.4697],\n",
       "         [ 0.8115,  0.3566,  0.9043],\n",
       "         [ 0.9975,  0.8262,  0.3989],\n",
       "         [ 0.4226,  0.6329,  0.5481],\n",
       "         [ 0.0649,  0.4659,  0.4612],\n",
       "         [ 0.6775,  0.3589,  0.7245]],\n",
       "\n",
       "        [[ 0.1666,  0.0239,  0.4086],\n",
       "         [ 0.9947,  0.2983,  0.8580],\n",
       "         [ 0.1936,  0.8046,  0.5299],\n",
       "         [ 0.5637,  0.9643,  0.0417],\n",
       "         [ 0.3955,  0.9059,  0.4972],\n",
       "         [ 0.6955,  0.6288,  0.1333],\n",
       "         [ 0.8157,  0.2921,  0.7558],\n",
       "         [ 0.0322,  0.4967,  0.3076],\n",
       "         [ 0.7396,  0.2472,  0.7970],\n",
       "         [ 0.6427,  0.3976,  0.3231]],\n",
       "\n",
       "        [[ 0.1892,  0.0303,  0.0137],\n",
       "         [ 0.4565,  0.3151,  0.3810],\n",
       "         [ 0.4527,  0.9560,  0.6822],\n",
       "         [ 0.3041,  0.6709,  0.4864],\n",
       "         [ 0.9050,  0.8682,  0.4871],\n",
       "         [ 0.4351,  0.5796,  0.0592],\n",
       "         [ 0.3759,  0.5267,  0.9939],\n",
       "         [ 0.1173,  0.3436,  0.0929],\n",
       "         [ 0.8441,  0.3081,  0.6488],\n",
       "         [ 0.5204,  0.6893,  0.1160]],\n",
       "\n",
       "        [[ 0.2065,  0.1316,  0.2908],\n",
       "         [ 0.3412,  0.2731,  0.3458],\n",
       "         [ 0.4385,  0.4427,  0.0209],\n",
       "         [ 0.2149,  0.8167,  0.9012],\n",
       "         [ 0.5959,  0.0750,  0.9483],\n",
       "         [ 0.1536,  0.0797,  0.7940],\n",
       "         [ 0.4952,  0.8627,  0.6272],\n",
       "         [ 0.4187,  0.7120,  0.7712],\n",
       "         [ 0.9145,  0.5763,  0.8584],\n",
       "         [ 0.6383,  0.1602,  0.3600]]])"
      ]
     },
     "execution_count": 22,
     "metadata": {},
     "output_type": "execute_result"
    }
   ],
   "source": [
    "t = torch.rand((5, 10, 3))\n",
    "t"
   ]
  },
  {
   "cell_type": "code",
   "execution_count": null,
   "metadata": {},
   "outputs": [],
   "source": []
  }
 ],
 "metadata": {
  "kernelspec": {
   "display_name": "Python 3",
   "language": "python",
   "name": "python3"
  },
  "language_info": {
   "codemirror_mode": {
    "name": "ipython",
    "version": 3
   },
   "file_extension": ".py",
   "mimetype": "text/x-python",
   "name": "python",
   "nbconvert_exporter": "python",
   "pygments_lexer": "ipython3",
   "version": "3.6.4"
  }
 },
 "nbformat": 4,
 "nbformat_minor": 2
}
